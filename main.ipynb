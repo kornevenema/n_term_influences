{
 "cells": [
  {
   "cell_type": "markdown",
   "metadata": {},
   "source": [
    "### Requirements for the results. Make sure to have read the readme files in the research directory."
   ]
  },
  {
   "cell_type": "code",
   "execution_count": 14,
   "metadata": {},
   "outputs": [],
   "source": [
    "import pandas as pd\n",
    "import json\n",
    "results = pd.read_csv('pre-processing data/exam results/all_results_complete.csv', sep=';', encoding='utf-8')\n",
    "n_terms = pd.read_csv('pre-processing data/n-term/n-terms_complete.csv', sep=';', encoding='utf-8')\n",
    "with open('config.json', 'r') as f:\n",
    "    config = json.load(f)"
   ]
  },
  {
   "cell_type": "markdown",
   "metadata": {},
   "source": [
    "### pass / fail ratio per score-type"
   ]
  },
  {
   "cell_type": "code",
   "execution_count": 15,
   "metadata": {},
   "outputs": [
    {
     "name": "stdout",
     "output_type": "stream",
     "text": [
      "NAME                   ratio   fail-count  pass-count\n",
      "SCORE                  0.0429  9842        229353\n",
      "SCORE_AVERAGE_N-TERM   0.0721  16084       223111\n",
      "SCORE_NO_N-TERM        0.0674  15109       224086\n"
     ]
    }
   ],
   "source": [
    "print('{0:<22} {1:<7} {2:<11} {3}'.format('NAME', 'ratio', 'fail-count', 'pass-count'))\n",
    "for t in ['SCORE', 'SCORE_AVERAGE_N-TERM', 'SCORE_NO_N-TERM']:\n",
    "    fail_ratio = results.loc[results[t] < float(5.5), t].count()\n",
    "    pass_ratio = results.loc[results[t] >= float(5.5), t].count()\n",
    "    print('{0:<22} {1:<7} {2:<11} {3}'.format(t, round(fail_ratio / pass_ratio, 4), fail_ratio, pass_ratio))"
   ]
  },
  {
   "cell_type": "markdown",
   "metadata": {},
   "source": [
    "### fail/pass ratio per course per year"
   ]
  },
  {
   "cell_type": "code",
   "execution_count": 16,
   "metadata": {},
   "outputs": [
    {
     "name": "stdout",
     "output_type": "stream",
     "text": [
      "\n",
      "2012\n",
      "VMBO BB       0.0181  0.0356  0.0356  \n",
      "VMBO KB       0.0462  0.0917  0.1526  \n",
      "VMBO GL en TL 0.0733  0.0826  0.0515  \n",
      "HAVO          0.0292  0.0528  0.0764  \n",
      "VWO           0.0344  0.0698  0.0531  \n",
      "\n",
      "2013\n",
      "VMBO BB       0.0169  0.0765  0.0765  \n",
      "VMBO KB       0.0595  0.1026  0.1026  \n",
      "VMBO GL en TL 0.0773  0.077   0.0325  \n",
      "HAVO          0.0202  0.049   0.049   \n",
      "VWO           0.0234  0.0551  0.0399  \n",
      "\n",
      "2014\n",
      "VMBO BB       0.0135  0.0281  0.0281  \n",
      "VMBO KB       0.0465  0.0702  0.1214  \n",
      "VMBO GL en TL 0.0615  0.0906  0.0721  \n",
      "HAVO          0.0325  0.0901  0.0901  \n",
      "VWO           0.0358  0.0582  0.0323  \n",
      "\n",
      "2015\n",
      "VMBO BB       0.011   0.0532  0.0941  \n",
      "VMBO KB       0.0512  0.0825  0.1114  \n",
      "VMBO GL en TL 0.0586  0.0884  0.0884  \n",
      "HAVO          0.0283  0.1085  0.1085  \n",
      "VWO           0.0296  0.0425  0.0236  \n",
      "\n",
      "2016\n",
      "VMBO BB       0.0158  0.0701  0.0949  \n",
      "VMBO KB       0.0373  0.0756  0.1127  \n",
      "VMBO GL en TL 0.0625  0.083   0.083   \n",
      "HAVO          0.0223  0.0597  0.0597  \n",
      "VWO           0.0285  0.0695  0.0462  \n",
      "\n",
      "2017\n",
      "VMBO BB       0.0096  0.0329  0.0569  \n",
      "VMBO KB       0.0385  0.0434  0.0434  \n",
      "VMBO GL en TL 0.0772  0.1057  0.0844  \n",
      "HAVO          0.0382  0.0649  0.0649  \n",
      "VWO           0.0302  0.0437  0.0437  \n",
      "\n",
      "2018\n",
      "VMBO BB       0.013   0.0549  0.1397  \n",
      "VMBO KB       0.0405  0.087   0.1295  \n",
      "VMBO GL en TL 0.0828  0.1458  0.0885  \n",
      "HAVO          0.0334  0.0423  0.0423  \n",
      "VWO           0.0325  0.0336  0.0336  \n",
      "\n",
      "2019\n",
      "VMBO BB       0.0137  0.0372  0.061   \n",
      "VMBO KB       0.0378  0.0494  0.075   \n",
      "VMBO GL en TL 0.0768  0.1215  0.1215  \n",
      "HAVO          0.0388  0.0619  0.0619  \n",
      "VWO           0.0252  0.0538  0.0538  \n"
     ]
    }
   ],
   "source": [
    "for year in config['years']:\n",
    "    print()\n",
    "    print(year)\n",
    "    for degree in config['degrees']:\n",
    "        print('{0:<13} '.format(degree), end='')\n",
    "        for t in ['SCORE', 'SCORE_AVERAGE_N-TERM', 'SCORE_NO_N-TERM']:\n",
    "            fail_ratio = results.loc[results['YEAR'] == year].loc[results['DEGREE'] == degree].loc[results[t] < float(5.5), t].count()\n",
    "            pass_ratio = results.loc[results['YEAR'] == year].loc[results['DEGREE'] == degree].loc[results[t] >= float(5.5), t].count()\n",
    "            print('{0:<8}'.format(str(round(fail_ratio / pass_ratio, 4))), end='')\n",
    "        print()"
   ]
  },
  {
   "cell_type": "markdown",
   "metadata": {},
   "source": [
    "### fail / pass ratio grouped by year"
   ]
  },
  {
   "cell_type": "code",
   "execution_count": 17,
   "metadata": {},
   "outputs": [
    {
     "name": "stdout",
     "output_type": "stream",
     "text": [
      "YEAR  SCORE   SCORE_AVERAGE_N-TERM  SCORE_NO_N-TERM\n",
      "2012  0.0402  0.0665                0.0738\n",
      "2013  0.0394  0.0721                0.0601\n",
      "2014  0.0379  0.0674                0.0688\n",
      "2015  0.0357  0.075                 0.0852\n",
      "2016  0.0333  0.0716                0.0793\n",
      "2017  0.0387  0.0581                0.0587\n",
      "2018  0.0404  0.0727                0.0867\n",
      "2019  0.0385  0.0648                0.0746\n"
     ]
    }
   ],
   "source": [
    "total = [0.0, 0.0, 0.0]\n",
    "print('{0:<5} {1:<7} {2:<21} {3}'.format('YEAR', 'SCORE', 'SCORE_AVERAGE_N-TERM', 'SCORE_NO_N-TERM'))\n",
    "for year in config['years']:\n",
    "    list_of_results = [0.0, 0.0, 0.0]\n",
    "    print('{0:<6}'.format(year), end='')\n",
    "    for degree in config['degrees']:\n",
    "        for t,i in zip(['SCORE', 'SCORE_AVERAGE_N-TERM', 'SCORE_NO_N-TERM'], [0,1,2]):\n",
    "            fail_ratio = results.loc[results['YEAR'] == year].loc[results['DEGREE'] == degree].loc[results[t] < float(5.5), t].count()\n",
    "            pass_ratio = results.loc[results['YEAR'] == year].loc[results['DEGREE'] == degree].loc[results[t] >= float(5.5), t].count()\n",
    "            ratio = fail_ratio / pass_ratio\n",
    "            list_of_results[i] += ratio\n",
    "    print('{0:<7} {1:<21} {2:<6}'.format(round(list_of_results[0]/5, 4), round(list_of_results[1]/5, 4), round(list_of_results[2]/5, 4)))\n"
   ]
  },
  {
   "cell_type": "markdown",
   "metadata": {},
   "source": [
    "### fail / pass ratio grouped by degree"
   ]
  },
  {
   "cell_type": "code",
   "execution_count": 18,
   "metadata": {},
   "outputs": [
    {
     "name": "stdout",
     "output_type": "stream",
     "text": [
      "DEGREE        SCORE   SCORE_AVERAGE_N-TERM  SCORE_NO_N-TERM\n",
      "VMBO BB       0.0139  0.0486                0.0734\n",
      "VMBO KB       0.0447  0.0753                0.1061\n",
      "VMBO GL en TL 0.0712  0.0993                0.0777\n",
      "HAVO          0.0304  0.0661                0.0691\n",
      "VWO           0.0299  0.0533                0.0408\n"
     ]
    }
   ],
   "source": [
    "total = [0.0, 0.0, 0.0]\n",
    "print('{0:<13} {1:<7} {2:<21} {3}'.format('DEGREE', 'SCORE', 'SCORE_AVERAGE_N-TERM', 'SCORE_NO_N-TERM'))\n",
    "for degree in config['degrees']:\n",
    "    list_of_results = [0.0, 0.0, 0.0]\n",
    "    print('{0:<14}'.format(degree), end='')\n",
    "    for year in config['years']:\n",
    "        for t,i in zip(['SCORE', 'SCORE_AVERAGE_N-TERM', 'SCORE_NO_N-TERM'], [0,1,2]):\n",
    "            fail_ratio = results.loc[results['YEAR'] == year].loc[results['DEGREE'] == degree].loc[results[t] < float(5.5), t].count()\n",
    "            pass_ratio = results.loc[results['YEAR'] == year].loc[results['DEGREE'] == degree].loc[results[t] >= float(5.5), t].count()\n",
    "            ratio = fail_ratio / pass_ratio\n",
    "            list_of_results[i] += ratio    \n",
    "    print('{0:<7} {1:<21} {2}'.format(round(list_of_results[0]/8, 4), round(list_of_results[1]/8, 4), round(list_of_results[2]/8, 4)))"
   ]
  },
  {
   "cell_type": "markdown",
   "metadata": {},
   "source": [
    "### difference between average / no N-Term ratio and normal ratio"
   ]
  },
  {
   "cell_type": "code",
   "execution_count": 19,
   "metadata": {
    "scrolled": false
   },
   "outputs": [
    {
     "name": "stdout",
     "output_type": "stream",
     "text": [
      "YEAR/COURSE   | NORMAL RATIO | AVERAGE_DIFFERENCE | NO_N-TERM_DIFFERENCE\n",
      "\n",
      "2012\n",
      "VMBO BB           0.0181            0.0175                0.0175      \n",
      "VMBO KB           0.0462            0.0456                0.1064      \n",
      "VMBO GL en TL     0.0733            0.0093               -0.0219      \n",
      "HAVO              0.0292            0.0236                0.0473      \n",
      "VWO               0.0344            0.0354                0.0187      \n",
      "\n",
      "2013\n",
      "VMBO BB           0.0169            0.0596                0.0596      \n",
      "VMBO KB           0.0595            0.0432                0.0432      \n",
      "VMBO GL en TL     0.0773            -0.0002              -0.0448      \n",
      "HAVO              0.0202            0.0288                0.0288      \n",
      "VWO               0.0234            0.0318                0.0165      \n",
      "\n",
      "2014\n",
      "VMBO BB           0.0135            0.0146                0.0146      \n",
      "VMBO KB           0.0465            0.0237                0.075       \n",
      "VMBO GL en TL     0.0615            0.0291                0.0106      \n",
      "HAVO              0.0325            0.0576                0.0576      \n",
      "VWO               0.0358            0.0224               -0.0035      \n",
      "\n",
      "2015\n",
      "VMBO BB           0.011             0.0422                0.0831      \n",
      "VMBO KB           0.0512            0.0313                0.0602      \n",
      "VMBO GL en TL     0.0586            0.0298                0.0298      \n",
      "HAVO              0.0283            0.0802                0.0802      \n",
      "VWO               0.0296            0.0129                -0.006      \n",
      "\n",
      "2016\n",
      "VMBO BB           0.0158            0.0543                0.0791      \n",
      "VMBO KB           0.0373            0.0382                0.0754      \n",
      "VMBO GL en TL     0.0625            0.0205                0.0205      \n",
      "HAVO              0.0223            0.0374                0.0374      \n",
      "VWO               0.0285             0.041                0.0178      \n",
      "\n",
      "2017\n",
      "VMBO BB           0.0096            0.0233                0.0473      \n",
      "VMBO KB           0.0385             0.005                0.005       \n",
      "VMBO GL en TL     0.0772            0.0285                0.0073      \n",
      "HAVO              0.0382            0.0267                0.0267      \n",
      "VWO               0.0302            0.0135                0.0135      \n",
      "\n",
      "2018\n",
      "VMBO BB           0.013             0.0419                0.1267      \n",
      "VMBO KB           0.0405            0.0464                0.089       \n",
      "VMBO GL en TL     0.0828             0.063                0.0057      \n",
      "HAVO              0.0334            0.0089                0.0089      \n",
      "VWO               0.0325            0.0011                0.0011      \n",
      "\n",
      "2019\n",
      "VMBO BB           0.0137            0.0235                0.0473      \n",
      "VMBO KB           0.0378            0.0116                0.0371      \n",
      "VMBO GL en TL     0.0768            0.0447                0.0447      \n",
      "HAVO              0.0388            0.0231                0.0231      \n",
      "VWO               0.0252            0.0286                0.0286      \n"
     ]
    }
   ],
   "source": [
    "print('{0:<13} | {1:<12} | {2:<18} | {3}'.format('YEAR/COURSE', 'NORMAL RATIO', 'AVERAGE_DIFFERENCE', 'NO_N-TERM_DIFFERENCE'))\n",
    "for year in config['years']:\n",
    "    print()\n",
    "    print(year)\n",
    "    for degree in config['degrees']:\n",
    "        list_of_results = [0.0, 0.0, 0.0]\n",
    "        print('{0:<13}  '.format(degree), end='')\n",
    "        for t,i in zip(['SCORE', 'SCORE_AVERAGE_N-TERM', 'SCORE_NO_N-TERM'], [0,1,2]):\n",
    "            fail_ratio = results.loc[results['YEAR'] == year].loc[results['DEGREE'] == degree].loc[results[t] < float(5.5), t].count()\n",
    "            pass_ratio = results.loc[results['YEAR'] == year].loc[results['DEGREE'] == degree].loc[results[t] >= float(5.5), t].count()\n",
    "            ratio = fail_ratio / pass_ratio\n",
    "            list_of_results[i] += ratio\n",
    "            \n",
    "        print('{0:^12}  {1:^21}  {2:^18}'.format(\n",
    "            round(list_of_results[0], 4), \n",
    "            round(list_of_results[1] - list_of_results[0], 4),\n",
    "            round(list_of_results[2] - list_of_results[0], 4)\n",
    "        ))\n"
   ]
  },
  {
   "cell_type": "markdown",
   "metadata": {},
   "source": [
    "### difference between average and no N-Term ratio with normal ratio grouped by year"
   ]
  },
  {
   "cell_type": "code",
   "execution_count": 20,
   "metadata": {},
   "outputs": [
    {
     "name": "stdout",
     "output_type": "stream",
     "text": [
      "YEAR          | NORMAL RATIO | AVERAGE_DIFFERENCE | NO_N-TERM_DIFFERENCE\n",
      "2012               0.0402            0.0263                0.0336      \n",
      "2013               0.0394            0.0326                0.0207      \n",
      "2014               0.0379            0.0295                0.0309      \n",
      "2015               0.0357            0.0393                0.0495      \n",
      "2016               0.0333            0.0383                0.046       \n",
      "2017               0.0387            0.0194                 0.02       \n",
      "2018               0.0404            0.0323                0.0463      \n",
      "2019               0.0385            0.0263                0.0362      \n"
     ]
    }
   ],
   "source": [
    "total = [0.0, 0.0, 0.0]\n",
    "print('{0:<13} | {1:<12} | {2:<18} | {3}'.format('YEAR', 'NORMAL RATIO', 'AVERAGE_DIFFERENCE', 'NO_N-TERM_DIFFERENCE'))\n",
    "for year in config['years']:\n",
    "    list_of_results = [0.0, 0.0, 0.0]\n",
    "    print('{0:<14}  '.format(year), end='')\n",
    "    for degree in config['degrees']:\n",
    "        for t,i in zip(['SCORE', 'SCORE_AVERAGE_N-TERM', 'SCORE_NO_N-TERM'], [0,1,2]):\n",
    "            fail_ratio = results.loc[results['YEAR'] == year].loc[results['DEGREE'] == degree].loc[results[t] < float(5.5), t].count()\n",
    "            pass_ratio = results.loc[results['YEAR'] == year].loc[results['DEGREE'] == degree].loc[results[t] >= float(5.5), t].count()\n",
    "            ratio = fail_ratio / pass_ratio\n",
    "            list_of_results[i] += ratio\n",
    "    print('{0:^12}  {1:^21}  {2:^18}'.format(\n",
    "                round(list_of_results[0] / 5, 4), \n",
    "                round(list_of_results[1] / 5 - list_of_results[0] / 5, 4),\n",
    "                round(list_of_results[2] / 5 - list_of_results[0] / 5, 4)\n",
    "            ))"
   ]
  },
  {
   "cell_type": "markdown",
   "metadata": {},
   "source": [
    "### difference between average and no N-Term ratio with normal ratio grouped by degree"
   ]
  },
  {
   "cell_type": "code",
   "execution_count": 21,
   "metadata": {},
   "outputs": [
    {
     "name": "stdout",
     "output_type": "stream",
     "text": [
      "DEGREE        | NORMAL RATIO | AVERAGE_DIFFERENCE | NO_N-TERM_DIFFERENCE\n",
      "VMBO BB           0.0139            0.0346                0.0594      \n",
      "VMBO KB           0.0447            0.0306                0.0614      \n",
      "VMBO GL en TL     0.0712            0.0281                0.0065      \n",
      "HAVO              0.0304            0.0358                0.0387      \n",
      "VWO               0.0299            0.0233                0.0108      \n"
     ]
    }
   ],
   "source": [
    "total = [0.0, 0.0, 0.0]\n",
    "print('{0:<13} | {1:<12} | {2:<18} | {3}'.format('DEGREE', 'NORMAL RATIO', 'AVERAGE_DIFFERENCE', 'NO_N-TERM_DIFFERENCE'))\n",
    "for degree in config['degrees']:\n",
    "    list_of_results = [0.0, 0.0, 0.0]\n",
    "    print('{0:<14} '.format(degree), end='')\n",
    "    for year in config['years']:\n",
    "        for t,i in zip(['SCORE', 'SCORE_AVERAGE_N-TERM', 'SCORE_NO_N-TERM'], [0,1,2]):\n",
    "            fail_ratio = results.loc[results['YEAR'] == year].loc[results['DEGREE'] == degree].loc[results[t] < float(5.5), t].count()\n",
    "            pass_ratio = results.loc[results['YEAR'] == year].loc[results['DEGREE'] == degree].loc[results[t] >= float(5.5), t].count()\n",
    "            ratio = fail_ratio / pass_ratio\n",
    "            list_of_results[i] += ratio    \n",
    "    print('{0:^12}  {1:^21}  {2:^18}'.format(\n",
    "            round(list_of_results[0] / 8, 4), \n",
    "            round(list_of_results[1] / 8 - list_of_results[0] / 8, 4),\n",
    "            round(list_of_results[2] / 8 - list_of_results[0] / 8, 4)\n",
    "        ))"
   ]
  }
 ],
 "metadata": {
  "kernelspec": {
   "display_name": "Python 3",
   "language": "python",
   "name": "python3"
  },
  "language_info": {
   "codemirror_mode": {
    "name": "ipython",
    "version": 3
   },
   "file_extension": ".py",
   "mimetype": "text/x-python",
   "name": "python",
   "nbconvert_exporter": "python",
   "pygments_lexer": "ipython3",
   "version": "3.7.4"
  }
 },
 "nbformat": 4,
 "nbformat_minor": 2
}
